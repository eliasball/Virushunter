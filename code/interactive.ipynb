{
 "cells": [
  {
   "cell_type": "code",
   "execution_count": 72,
   "metadata": {},
   "outputs": [],
   "source": [
    "# define hosts for which model should be built\n",
    "hosts = [\"A\", \"B\"]"
   ]
  },
  {
   "cell_type": "code",
   "execution_count": 73,
   "metadata": {},
   "outputs": [],
   "source": [
    "# create a untrained classifier for each host\n",
    "from classification.ElkanotoSVCClassifier import ElkanotoSVCClassifier\n",
    "\n",
    "classifiers = {}\n",
    "for host in hosts:\n",
    "    classifiers[host] = ElkanotoSVCClassifier()"
   ]
  },
  {
   "cell_type": "code",
   "execution_count": 74,
   "metadata": {},
   "outputs": [],
   "source": [
    "# load datasets\n",
    "import numpy as np\n",
    "\n",
    "# read in file\n",
    "featureFilePath = \"mock_features.csv\"\n",
    "\n",
    "featuresPerHost = {}\n",
    "for host in hosts:\n",
    "    featuresPerHost[host] = []\n",
    "\n",
    "# read line by line\n",
    "with open(featureFilePath, \"r\") as file:\n",
    "    for line in file:\n",
    "        # split line\n",
    "        parts = line.split(\",\")\n",
    "        host = parts[0]\n",
    "        virus = parts[1]\n",
    "        features = parts[2:]\n",
    "        features = [float(feature) for feature in features]\n",
    "        featuresPerHost[host].append(features)\n",
    "\n",
    "for host in hosts:\n",
    "    featuresPerHost[host] = np.array(featuresPerHost[host])"
   ]
  },
  {
   "cell_type": "code",
   "execution_count": 75,
   "metadata": {},
   "outputs": [],
   "source": [
    "# transform features into input data\n",
    "X = np.concatenate([featuresPerHost[host] for host in hosts])\n",
    "\n",
    "def getYForHost(h):\n",
    "    y = []\n",
    "    for host in hosts:\n",
    "        y += [1 if host == h else 0] * len(featuresPerHost[host])\n",
    "\n",
    "    return np.array(y)"
   ]
  },
  {
   "cell_type": "code",
   "execution_count": 98,
   "metadata": {},
   "outputs": [],
   "source": [
    "# run k-fold cross validation for each host\n",
    "from sklearn.model_selection import KFold, cross_validate\n",
    "import numpy as np\n",
    "\n",
    "scores = {}\n",
    "for host in hosts:\n",
    "    # load the training data\n",
    "    X = X\n",
    "    y = getYForHost(host)\n",
    "\n",
    "    # run k-fold cross validation\n",
    "    cv = KFold(n_splits=5, shuffle=True)\n",
    "    scores[host] = cross_validate(classifiers[host], X, y, cv=cv, scoring=['balanced_accuracy', 'recall', 'precision'])"
   ]
  },
  {
   "cell_type": "code",
   "execution_count": 99,
   "metadata": {},
   "outputs": [
    {
     "data": {
      "text/plain": [
       "{'A': {'fit_time': array([0.00281906, 0.0013957 , 0.00198793, 0.00200129, 0.00100255]),\n",
       "  'score_time': array([0.00508285, 0.0051415 , 0.00584149, 0.00300026, 0.00403333]),\n",
       "  'test_balanced_accuracy': array([1., 1., 1., 1., 1.]),\n",
       "  'test_recall': array([1., 1., 1., 1., 1.]),\n",
       "  'test_precision': array([1., 1., 1., 1., 1.])},\n",
       " 'B': {'fit_time': array([0.00099826, 0.00202584, 0.00099373, 0.00101185, 0.00200987]),\n",
       "  'score_time': array([0.00545621, 0.00300026, 0.00445247, 0.00414681, 0.00300479]),\n",
       "  'test_balanced_accuracy': array([1., 1., 1., 1., 1.]),\n",
       "  'test_recall': array([1., 1., 1., 1., 1.]),\n",
       "  'test_precision': array([1., 1., 1., 1., 1.])}}"
      ]
     },
     "execution_count": 99,
     "metadata": {},
     "output_type": "execute_result"
    }
   ],
   "source": [
    "# print out the metrics we want to see using the scores\n",
    "scores"
   ]
  }
 ],
 "metadata": {
  "kernelspec": {
   "display_name": "virushunter",
   "language": "python",
   "name": "python3"
  },
  "language_info": {
   "codemirror_mode": {
    "name": "ipython",
    "version": 3
   },
   "file_extension": ".py",
   "mimetype": "text/x-python",
   "name": "python",
   "nbconvert_exporter": "python",
   "pygments_lexer": "ipython3",
   "version": "3.12.8"
  }
 },
 "nbformat": 4,
 "nbformat_minor": 2
}
