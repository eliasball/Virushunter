{
 "cells": [
  {
   "cell_type": "code",
   "execution_count": 45,
   "metadata": {},
   "outputs": [],
   "source": [
    "# define hosts for which model should be built\n",
    "hosts = [\"hosttaxID1\", \"hosttaxID2\"]"
   ]
  },
  {
   "cell_type": "code",
   "execution_count": 46,
   "metadata": {},
   "outputs": [],
   "source": [
    "# create a untrained classifier for each host\n",
    "from classification.ElkanotoSVCClassifier import ElkanotoSVCClassifier\n",
    "\n",
    "classifiers = {}\n",
    "for host in hosts:\n",
    "    classifiers[host] = ElkanotoSVCClassifier()"
   ]
  },
  {
   "cell_type": "code",
   "execution_count": 47,
   "metadata": {},
   "outputs": [],
   "source": [
    "# load datasets\n",
    "import numpy as np\n",
    "import pandas as pd\n",
    "import ast\n",
    "\n",
    "# read in file\n",
    "featureFilePath = \"mock_features_preprocessing.csv\"\n",
    "featureData = pd.read_csv(featureFilePath)\n",
    "\n",
    "\n",
    "# Convert the flat feature list into right format for classifier\n",
    "featureData['FeaturesFlat'] = featureData['FeaturesFlat'].apply(ast.literal_eval)\n",
    "featureData['FeaturesFlat'] = featureData['FeaturesFlat'].apply(lambda x: [float(i) for i in x])\n",
    "\n",
    "\n",
    "# Create dictionary of hostIDs and empty lists (of feature lists for each datapoint) for each host\n",
    "featuresPerHost = {}\n",
    "for host in hosts:\n",
    "    featuresPerHost[host] = []\n",
    "\n",
    "\n",
    "# Extract features of virus sequences for each host in seperate list and convert them to a np array\n",
    "for _, row in featureData.iterrows():\n",
    "    host = row['HostTaxID']\n",
    "    features = np.array(row['FeaturesFlat'])\n",
    "    featuresPerHost[host].append(features)\n",
    "\n",
    "for host in hosts:\n",
    "    featuresPerHost[host] = np.array(featuresPerHost[host])\n"
   ]
  },
  {
   "cell_type": "code",
   "execution_count": 48,
   "metadata": {},
   "outputs": [],
   "source": [
    "# transform features into input data\n",
    "X = np.concatenate([featuresPerHost[host] for host in hosts])\n",
    "\n",
    "def getYForHost(h):\n",
    "    y = []\n",
    "    for host in hosts:\n",
    "        y += [1 if host == h else 0] * len(featuresPerHost[host])\n",
    "\n",
    "    return np.array(y)"
   ]
  },
  {
   "cell_type": "code",
   "execution_count": 49,
   "metadata": {},
   "outputs": [
    {
     "name": "stderr",
     "output_type": "stream",
     "text": [
      "/Users/al/opt/anaconda3/lib/python3.9/site-packages/sklearn/metrics/_classification.py:409: UserWarning: A single label was found in 'y_true' and 'y_pred'. For the confusion matrix to have the correct shape, use the 'labels' parameter to pass all known labels.\n",
      "  warnings.warn(\n",
      "/Users/al/opt/anaconda3/lib/python3.9/site-packages/sklearn/metrics/_classification.py:2480: UserWarning: y_pred contains classes not in y_true\n",
      "  warnings.warn(\"y_pred contains classes not in y_true\")\n",
      "/Users/al/opt/anaconda3/lib/python3.9/site-packages/sklearn/metrics/_classification.py:1531: UndefinedMetricWarning: Recall is ill-defined and being set to 0.0 due to no true samples. Use `zero_division` parameter to control this behavior.\n",
      "  _warn_prf(average, modifier, f\"{metric.capitalize()} is\", len(result))\n",
      "/Users/al/opt/anaconda3/lib/python3.9/site-packages/sklearn/metrics/_classification.py:409: UserWarning: A single label was found in 'y_true' and 'y_pred'. For the confusion matrix to have the correct shape, use the 'labels' parameter to pass all known labels.\n",
      "  warnings.warn(\n",
      "/Users/al/opt/anaconda3/lib/python3.9/site-packages/sklearn/model_selection/_validation.py:540: FitFailedWarning: \n",
      "2 fits failed out of a total of 5.\n",
      "The score on these train-test partitions for these parameters will be set to nan.\n",
      "If these failures are not expected, you can try to debug them by setting error_score='raise'.\n",
      "\n",
      "Below are more details about the failures:\n",
      "--------------------------------------------------------------------------------\n",
      "1 fits failed with the following error:\n",
      "Traceback (most recent call last):\n",
      "  File \"/Users/al/opt/anaconda3/lib/python3.9/site-packages/sklearn/model_selection/_validation.py\", line 888, in _fit_and_score\n",
      "    estimator.fit(X_train, y_train, **fit_params)\n",
      "  File \"/Users/al/Desktop/Bioinformatik/1.Semester/Sequence Bioinformatics/Virushunter/Virushunter/code/classification/ElkanotoSVCClassifier.py\", line 35, in fit\n",
      "    self.model.fit(X, y)\n",
      "  File \"/Users/al/opt/anaconda3/lib/python3.9/site-packages/pulearn/elkanoto.py\", line 73, in fit\n",
      "    self.estimator.fit(X, y)\n",
      "  File \"/Users/al/opt/anaconda3/lib/python3.9/site-packages/sklearn/base.py\", line 1473, in wrapper\n",
      "    return fit_method(estimator, *args, **kwargs)\n",
      "  File \"/Users/al/opt/anaconda3/lib/python3.9/site-packages/sklearn/svm/_base.py\", line 199, in fit\n",
      "    y = self._validate_targets(y)\n",
      "  File \"/Users/al/opt/anaconda3/lib/python3.9/site-packages/sklearn/svm/_base.py\", line 742, in _validate_targets\n",
      "    raise ValueError(\n",
      "ValueError: The number of classes has to be greater than one; got 1 class\n",
      "\n",
      "--------------------------------------------------------------------------------\n",
      "1 fits failed with the following error:\n",
      "Traceback (most recent call last):\n",
      "  File \"/Users/al/opt/anaconda3/lib/python3.9/site-packages/sklearn/model_selection/_validation.py\", line 888, in _fit_and_score\n",
      "    estimator.fit(X_train, y_train, **fit_params)\n",
      "  File \"/Users/al/Desktop/Bioinformatik/1.Semester/Sequence Bioinformatics/Virushunter/Virushunter/code/classification/ElkanotoSVCClassifier.py\", line 35, in fit\n",
      "    self.model.fit(X, y)\n",
      "  File \"/Users/al/opt/anaconda3/lib/python3.9/site-packages/pulearn/elkanoto.py\", line 76, in fit\n",
      "    hold_out_predictions = self.estimator.predict_proba(X_p_hold_out)\n",
      "  File \"/Users/al/opt/anaconda3/lib/python3.9/site-packages/sklearn/svm/_base.py\", line 856, in predict_proba\n",
      "    X = self._validate_for_predict(X)\n",
      "  File \"/Users/al/opt/anaconda3/lib/python3.9/site-packages/sklearn/svm/_base.py\", line 606, in _validate_for_predict\n",
      "    X = self._validate_data(\n",
      "  File \"/Users/al/opt/anaconda3/lib/python3.9/site-packages/sklearn/base.py\", line 633, in _validate_data\n",
      "    out = check_array(X, input_name=\"X\", **check_params)\n",
      "  File \"/Users/al/opt/anaconda3/lib/python3.9/site-packages/sklearn/utils/validation.py\", line 1087, in check_array\n",
      "    raise ValueError(\n",
      "ValueError: Found array with 0 sample(s) (shape=(0, 1615)) while a minimum of 1 is required by SVC.\n",
      "\n",
      "  warnings.warn(some_fits_failed_message, FitFailedWarning)\n",
      "/Users/al/opt/anaconda3/lib/python3.9/site-packages/sklearn/metrics/_classification.py:2480: UserWarning: y_pred contains classes not in y_true\n",
      "  warnings.warn(\"y_pred contains classes not in y_true\")\n",
      "/Users/al/opt/anaconda3/lib/python3.9/site-packages/sklearn/metrics/_classification.py:1531: UndefinedMetricWarning: Recall is ill-defined and being set to 0.0 due to no true samples. Use `zero_division` parameter to control this behavior.\n",
      "  _warn_prf(average, modifier, f\"{metric.capitalize()} is\", len(result))\n",
      "/Users/al/opt/anaconda3/lib/python3.9/site-packages/sklearn/model_selection/_validation.py:540: FitFailedWarning: \n",
      "4 fits failed out of a total of 5.\n",
      "The score on these train-test partitions for these parameters will be set to nan.\n",
      "If these failures are not expected, you can try to debug them by setting error_score='raise'.\n",
      "\n",
      "Below are more details about the failures:\n",
      "--------------------------------------------------------------------------------\n",
      "4 fits failed with the following error:\n",
      "Traceback (most recent call last):\n",
      "  File \"/Users/al/opt/anaconda3/lib/python3.9/site-packages/sklearn/model_selection/_validation.py\", line 888, in _fit_and_score\n",
      "    estimator.fit(X_train, y_train, **fit_params)\n",
      "  File \"/Users/al/Desktop/Bioinformatik/1.Semester/Sequence Bioinformatics/Virushunter/Virushunter/code/classification/ElkanotoSVCClassifier.py\", line 35, in fit\n",
      "    self.model.fit(X, y)\n",
      "  File \"/Users/al/opt/anaconda3/lib/python3.9/site-packages/pulearn/elkanoto.py\", line 76, in fit\n",
      "    hold_out_predictions = self.estimator.predict_proba(X_p_hold_out)\n",
      "  File \"/Users/al/opt/anaconda3/lib/python3.9/site-packages/sklearn/svm/_base.py\", line 856, in predict_proba\n",
      "    X = self._validate_for_predict(X)\n",
      "  File \"/Users/al/opt/anaconda3/lib/python3.9/site-packages/sklearn/svm/_base.py\", line 606, in _validate_for_predict\n",
      "    X = self._validate_data(\n",
      "  File \"/Users/al/opt/anaconda3/lib/python3.9/site-packages/sklearn/base.py\", line 633, in _validate_data\n",
      "    out = check_array(X, input_name=\"X\", **check_params)\n",
      "  File \"/Users/al/opt/anaconda3/lib/python3.9/site-packages/sklearn/utils/validation.py\", line 1087, in check_array\n",
      "    raise ValueError(\n",
      "ValueError: Found array with 0 sample(s) (shape=(0, 1615)) while a minimum of 1 is required by SVC.\n",
      "\n",
      "  warnings.warn(some_fits_failed_message, FitFailedWarning)\n"
     ]
    }
   ],
   "source": [
    "# run k-fold cross validation for each host\n",
    "from sklearn.model_selection import KFold, cross_validate\n",
    "import numpy as np\n",
    "\n",
    "scores = {}\n",
    "for host in hosts:\n",
    "    # load the training data\n",
    "    X = X\n",
    "    y = getYForHost(host)\n",
    "\n",
    "    # run k-fold cross validation\n",
    "    cv = KFold(n_splits=5, shuffle=True)\n",
    "    scores[host] = cross_validate(classifiers[host], X, y, cv=cv, scoring=['balanced_accuracy', 'recall', 'precision'])"
   ]
  },
  {
   "cell_type": "code",
   "execution_count": 50,
   "metadata": {},
   "outputs": [
    {
     "data": {
      "text/plain": [
       "{'hosttaxID1': {'fit_time': array([0.00468397, 0.00295091, 0.00166297, 0.00072789, 0.00107598]),\n",
       "  'score_time': array([0.00875211, 0.00752616, 0.00493312, 0.        , 0.        ]),\n",
       "  'test_balanced_accuracy': array([ 1.,  0.,  1., nan, nan]),\n",
       "  'test_recall': array([ 1.,  0.,  1., nan, nan]),\n",
       "  'test_precision': array([ 1.,  0.,  1., nan, nan])},\n",
       " 'hosttaxID2': {'fit_time': array([0.00170922, 0.00112796, 0.0010488 , 0.0011251 , 0.0008769 ]),\n",
       "  'score_time': array([0.        , 0.        , 0.00421023, 0.        , 0.        ]),\n",
       "  'test_balanced_accuracy': array([nan, nan,  0., nan, nan]),\n",
       "  'test_recall': array([nan, nan,  0., nan, nan]),\n",
       "  'test_precision': array([nan, nan,  0., nan, nan])}}"
      ]
     },
     "execution_count": 50,
     "metadata": {},
     "output_type": "execute_result"
    }
   ],
   "source": [
    "# print out the metrics we want to see using the scores\n",
    "scores"
   ]
  }
 ],
 "metadata": {
  "kernelspec": {
   "display_name": "virushunter",
   "language": "python",
   "name": "python3"
  },
  "language_info": {
   "codemirror_mode": {
    "name": "ipython",
    "version": 3
   },
   "file_extension": ".py",
   "mimetype": "text/x-python",
   "name": "python",
   "nbconvert_exporter": "python",
   "pygments_lexer": "ipython3",
   "version": "3.12.8"
  }
 },
 "nbformat": 4,
 "nbformat_minor": 2
}
