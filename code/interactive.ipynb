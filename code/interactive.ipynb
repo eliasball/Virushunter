{
 "cells": [
  {
   "cell_type": "code",
   "execution_count": 135,
   "metadata": {},
   "outputs": [],
   "source": [
    "# Necessary Imports\n",
    "import numpy as np\n",
    "import pandas as pd\n",
    "import ast\n",
    "from classification.ElkanotoSVCClassifier import ElkanotoSVCClassifier"
   ]
  },
  {
   "cell_type": "code",
   "execution_count": 149,
   "metadata": {},
   "outputs": [],
   "source": [
    "# define hosts for which model should be built\n",
    "hosts = [\"hosttaxID1\", \"hosttaxID2\", \"hosttaxID3\"]"
   ]
  },
  {
   "cell_type": "code",
   "execution_count": 150,
   "metadata": {},
   "outputs": [],
   "source": [
    "# create a untrained classifier for each host\n",
    "classifiers = {}\n",
    "for host in hosts:\n",
    "    classifiers[host] = ElkanotoSVCClassifier()"
   ]
  },
  {
   "cell_type": "code",
   "execution_count": 151,
   "metadata": {},
   "outputs": [],
   "source": [
    "# load datasets\n",
    "\n",
    "# read in file\n",
    "featureFilePath = \"mock_features_preprocessing.csv\"\n",
    "featureData = pd.read_csv(featureFilePath)\n",
    "\n",
    "\n",
    "# Convert the flat feature list into right format for classifier\n",
    "featureData['FeaturesFlat'] = featureData['FeaturesFlat'].apply(ast.literal_eval)\n",
    "featureData['FeaturesFlat'] = featureData['FeaturesFlat'].apply(lambda x: [float(i) for i in x])\n",
    "\n",
    "\n",
    "# Create dictionary of hostIDs and empty lists (of feature lists for each datapoint) for each host\n",
    "featuresPerHost = {}\n",
    "for host in hosts:\n",
    "    featuresPerHost[host] = []\n",
    "\n",
    "\n",
    "# Extract features of virus sequences for each host in seperate list and convert them to a np array\n",
    "for _, row in featureData.iterrows():\n",
    "    host = row['HostTaxID']\n",
    "    features = np.array(row['FeaturesFlat'])\n",
    "    featuresPerHost[host].append(features)\n",
    "\n",
    "for host in hosts:\n",
    "    featuresPerHost[host] = np.array(featuresPerHost[host])\n"
   ]
  },
  {
   "cell_type": "code",
   "execution_count": 152,
   "metadata": {},
   "outputs": [],
   "source": [
    "# transform features into input data\n",
    "X = np.concatenate([featuresPerHost[host] for host in hosts])\n",
    "\n",
    "def getYForHost(h):\n",
    "    y = []\n",
    "    for host in hosts:\n",
    "        y += [1 if host == h else 0] * len(featuresPerHost[host])\n",
    "\n",
    "    return np.array(y)"
   ]
  },
  {
   "cell_type": "code",
   "execution_count": 156,
   "metadata": {},
   "outputs": [
    {
     "name": "stdout",
     "output_type": "stream",
     "text": [
      "Shape of X: (45, 590)\n",
      "Length of y: 45\n",
      "[1 1 1 1 1 1 1 1 1 1 1 1 1 1 1 0 0 0 0 0 0 0 0 0 0 0 0 0 0 0 0 0 0 0 0 0 0\n",
      " 0 0 0 0 0 0 0 0]\n",
      "Shape of X: (45, 590)\n",
      "Length of y: 45\n",
      "[0 0 0 0 0 0 0 0 0 0 0 0 0 0 0 1 1 1 1 1 1 1 1 1 1 1 1 1 1 1 0 0 0 0 0 0 0\n",
      " 0 0 0 0 0 0 0 0]\n",
      "Shape of X: (45, 590)\n",
      "Length of y: 45\n",
      "[0 0 0 0 0 0 0 0 0 0 0 0 0 0 0 0 0 0 0 0 0 0 0 0 0 0 0 0 0 0 1 1 1 1 1 1 1\n",
      " 1 1 1 1 1 1 1 1]\n"
     ]
    }
   ],
   "source": [
    "# run k-fold cross validation for each host\n",
    "from sklearn.model_selection import StratifiedKFold, KFold, cross_validate\n",
    "import numpy as np\n",
    "\n",
    "scores = {}\n",
    "for host in hosts:\n",
    "    # load the training data\n",
    "    X = X\n",
    "    y = getYForHost(host)\n",
    "    print(\"Shape of X:\", X.shape)\n",
    "    print(\"Length of y:\", len(y))\n",
    "    print(y)\n",
    "\n",
    "\n",
    "    # run k-fold cross validation\n",
    "    cv = KFold(n_splits=2, shuffle=True)\n",
    "    #cv = StratifiedKFold(n_splits=2, shuffle=True, random_state=42)\n",
    "    scores[host] = cross_validate(classifiers[host], X, y, cv=cv, scoring=['balanced_accuracy', 'recall', 'precision'])"
   ]
  },
  {
   "cell_type": "code",
   "execution_count": 157,
   "metadata": {},
   "outputs": [
    {
     "data": {
      "text/plain": [
       "{'hosttaxID1': {'fit_time': array([0.00525308, 0.00247407]),\n",
       "  'score_time': array([0.00993395, 0.00561476]),\n",
       "  'test_balanced_accuracy': array([1.        , 0.96666667]),\n",
       "  'test_recall': array([1., 1.]),\n",
       "  'test_precision': array([1.   , 0.875])},\n",
       " 'hosttaxID2': {'fit_time': array([0.00224781, 0.00181127]),\n",
       "  'score_time': array([0.004673  , 0.00483799]),\n",
       "  'test_balanced_accuracy': array([1., 1.]),\n",
       "  'test_recall': array([1., 1.]),\n",
       "  'test_precision': array([1., 1.])},\n",
       " 'hosttaxID3': {'fit_time': array([0.00176883, 0.00138807]),\n",
       "  'score_time': array([0.003901  , 0.00372815]),\n",
       "  'test_balanced_accuracy': array([1.        , 0.94444444]),\n",
       "  'test_recall': array([1.        , 0.88888889]),\n",
       "  'test_precision': array([1., 1.])}}"
      ]
     },
     "execution_count": 157,
     "metadata": {},
     "output_type": "execute_result"
    }
   ],
   "source": [
    "# print out the metrics we want to see using the scores\n",
    "scores"
   ]
  }
 ],
 "metadata": {
  "kernelspec": {
   "display_name": "base",
   "language": "python",
   "name": "python3"
  },
  "language_info": {
   "codemirror_mode": {
    "name": "ipython",
    "version": 3
   },
   "file_extension": ".py",
   "mimetype": "text/x-python",
   "name": "python",
   "nbconvert_exporter": "python",
   "pygments_lexer": "ipython3",
   "version": "3.9.12"
  }
 },
 "nbformat": 4,
 "nbformat_minor": 2
}
