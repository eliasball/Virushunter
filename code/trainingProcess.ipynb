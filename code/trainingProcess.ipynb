{
 "cells": [
  {
   "cell_type": "code",
   "execution_count": 65,
   "metadata": {},
   "outputs": [],
   "source": [
    "import numpy as np\n",
    "import os\n",
    "from sklearn.model_selection import KFold, cross_validate\n",
    "from sklearn.metrics import recall_score, make_scorer\n",
    "from dataPreprocessing import DataPreprocessing\n",
    "\n",
    "# classifiers\n",
    "from classification.ElkanotoSVCClassifier import ElkanotoSVCClassifier\n",
    "from sklearn.svm import SVC\n",
    "from sklearn.neighbors import KNeighborsClassifier\n",
    "from sklearn.tree import DecisionTreeClassifier\n",
    "\n",
    "# feature selection\n",
    "from sklearn.decomposition import PCA"
   ]
  },
  {
   "cell_type": "markdown",
   "metadata": {},
   "source": [
    "# Classification pipeline"
   ]
  },
  {
   "cell_type": "code",
   "execution_count": 113,
   "metadata": {},
   "outputs": [],
   "source": [
    "# Global parameters\n",
    "doPreprocessing = False # whether to generate the files for those feature sets\n",
    "featureSets = [{ \"kmer_simple\": [3, 6]},\n",
    "               { \"kmer_simple\": [3] },\n",
    "               { \"kmer_simple\": [6] },\n",
    "               { \"kmer\": [3, 6] },\n",
    "               { \"kmer\": [2, 3, 6] }]\n",
    "\n",
    "# define data to use\n",
    "hostsToIncludeInTrainingData = [10036, 10090, 1644094, 9031, 9455, 9534, 9544, 9823, 9913]\n",
    "# hostsToIncludeInTrainingData = [10090, 1644094, 9031, 9455, 9534, 9544, 9823, 9913]\n",
    "hostsToBuildClassifierFor = [10036]\n",
    "# hostsToBuildClassifierFor = [9455]\n",
    "featureFileToUse = \"features_kmer-3-6.csv\"\n",
    "\n",
    "# paths\n",
    "featureFileFolder = \"../features\"\n",
    "featureFilePrefix = \"features\"\n",
    "genomeParentFolder = \"../viral_genomes\"\n",
    "\n",
    "# fix randomness\n",
    "randomState = 42"
   ]
  },
  {
   "cell_type": "code",
   "execution_count": 3,
   "metadata": {},
   "outputs": [],
   "source": [
    "# Preprocessing means regenerating the feature files for the chosen feature sets\n",
    "if doPreprocessing:\n",
    "    # get all hosts\n",
    "    allHosts = [f.name for f in os.scandir(genomeParentFolder) if f.is_dir()]\n",
    "    filesForHosts = {host: [f.name for f in os.scandir(f\"{genomeParentFolder}/\" + host) if f.is_file()] for host in allHosts}\n",
    "\n",
    "    # filter out files that exist in multiple hosts\n",
    "    nonUnique = set()\n",
    "    for host in allHosts:\n",
    "        for otherHost in allHosts:\n",
    "            if host != otherHost:\n",
    "                appearInBoth = set(filesForHosts[host]).intersection(set(filesForHosts[otherHost]))\n",
    "                nonUnique = nonUnique.union(appearInBoth)\n",
    "    for host in allHosts:\n",
    "        filesForHosts[host] = [f for f in filesForHosts[host] if f not in nonUnique]\n",
    "\n",
    "    # create feature files\n",
    "    for featureSet in featureSets:\n",
    "        # feature file suffix\n",
    "        suffix = \"\"\n",
    "        for k, v in featureSet.items():\n",
    "            suffix += f\"_{k}\"\n",
    "            for val in v:\n",
    "                suffix += f\"-{val}\"\n",
    "        print(\"Creating feature set \" + suffix)\n",
    "\n",
    "        # extract features\n",
    "        with open(f\"{featureFileFolder}/{featureFilePrefix}{suffix}.csv\", \"w\") as featureFile:\n",
    "            dataPreprocessor = DataPreprocessing.DataPreprocessing()\n",
    "            for host in allHosts:\n",
    "                print (\"Extracting features for host: \" + host)\n",
    "                for genomeFilename in filesForHosts[host]:\n",
    "                    with open(f\"{genomeParentFolder}/{host}/{genomeFilename}\", \"r\") as genomeFile:\n",
    "                        # get sequence\n",
    "                        lines = genomeFile.readlines()\n",
    "                        sequence = \"\".join(lines[1:]).replace(\"\\n\", \"\")\n",
    "                        # flatten feature dict to list\n",
    "                        features = [x for v in dataPreprocessor.extractFeaturesFromGenome(sequence, featureSet).values() for x in v]\n",
    "                        # write as csv\n",
    "                        featureFile.write(host + \",\" + genomeFilename.split(\".\")[0] + \",\" + \",\".join(map(str, features)) + \"\\n\")"
   ]
  },
  {
   "cell_type": "code",
   "execution_count": 114,
   "metadata": {},
   "outputs": [
    {
     "name": "stdout",
     "output_type": "stream",
     "text": [
      "Loading features\n"
     ]
    }
   ],
   "source": [
    "# Create dictionary of hosts (as key) and lists (of feature lists for each virus) (as value)\n",
    "featuresPerHost = {}\n",
    "for host in hostsToIncludeInTrainingData:\n",
    "    featuresPerHost[host] = []\n",
    "\n",
    "# Load features of virus sequences for each host in seperate list and convert them to a np array\n",
    "print(\"Loading features\")\n",
    "with open(f\"{featureFileFolder}/{featureFileToUse}\") as featureFile:\n",
    "    for line in featureFile:\n",
    "        # split csv\n",
    "        values = line.rstrip().split(\",\")\n",
    "        # get host\n",
    "        host = int(values[0])\n",
    "        if host in hostsToIncludeInTrainingData:\n",
    "            # if host should be loaded, save features for this virus\n",
    "            featuresPerHost[host].append(list(map(float, values[2:])))\n",
    "for host in hostsToIncludeInTrainingData:\n",
    "    featuresPerHost[host] = np.array(featuresPerHost[host])"
   ]
  },
  {
   "cell_type": "code",
   "execution_count": 115,
   "metadata": {},
   "outputs": [
    {
     "name": "stdout",
     "output_type": "stream",
     "text": [
      "Running cross validation for host: 10036\n"
     ]
    }
   ],
   "source": [
    "# choose classifiers\n",
    "classifiers = {}\n",
    "for host in hostsToBuildClassifierFor:\n",
    "    # classifiers[host] = DecisionTreeClassifier(random_state=randomState)\n",
    "    # classifiers[host] = KNeighborsClassifier(n_neighbors=7)\n",
    "    # classifiers[host] = ElkanotoSVCClassifier(hold_out_ratio=0.1, threshold=0.5, random_state = randomState)\n",
    "    classifiers[host] = SVC(kernel = 'rbf', random_state = randomState)\n",
    "\n",
    "# Transform features (X) and host classes (y) into expected format for classifier\n",
    "# exclude hosts that have no values in the training data\n",
    "X = np.concatenate([featuresPerHost[host] for host in hostsToIncludeInTrainingData if featuresPerHost[host].shape[0] > 0])\n",
    "\n",
    "# # reduce dimensionality\n",
    "# X = PCA(n_components=15, random_state=randomState).fit_transform(X)\n",
    "\n",
    "def getYForHost(h):\n",
    "    y = []\n",
    "    for host in hostsToIncludeInTrainingData:\n",
    "        y += [1 if host == h else 0] * len(featuresPerHost[host])\n",
    "    return np.array(y)\n",
    "\n",
    "scores = {}\n",
    "specificity = make_scorer(recall_score, pos_label=0)\n",
    "for host in hostsToBuildClassifierFor:\n",
    "    print(\"Running cross validation for host:\", host)\n",
    "    # load the training data\n",
    "    X = X\n",
    "    y = getYForHost(host)\n",
    "\n",
    "    # run k-fold cross validation\n",
    "    cv = KFold(n_splits=4, shuffle=True, random_state=randomState)\n",
    "    scores[host] = cross_validate(classifiers[host], X, y, cv=cv, n_jobs=4, scoring={'balanced_accuracy': 'balanced_accuracy', 'recall': 'recall', 'specificity': specificity, 'precision': 'precision', 'f1': 'f1'})"
   ]
  },
  {
   "cell_type": "code",
   "execution_count": 116,
   "metadata": {},
   "outputs": [
    {
     "name": "stdout",
     "output_type": "stream",
     "text": [
      "Results for host: 10036\n",
      "Feature file: features_kmer-3-6.csv\n",
      "Balanced accuracy: 0.79 [0.77101833 0.77705793 0.78901789 0.82170099]\n",
      "Recall: 0.6 [0.55696203 0.58536585 0.5915493  0.65789474]\n",
      "Specificity: 0.98 [0.98507463 0.96875    0.98648649 0.98550725]\n",
      "Precision: 0.97 [0.97777778 0.96       0.97674419 0.98039216]\n",
      "F1: 0.74 [0.70967742 0.72727273 0.73684211 0.78740157]\n"
     ]
    },
    {
     "data": {
      "image/png": "[encoded data removed]",
      "text/plain": [
       "<Figure size 640x480 with 1 Axes>"
      ]
     },
     "metadata": {},
     "output_type": "display_data"
    }
   ],
   "source": [
    "# Plot results\n",
    "import matplotlib.pyplot as plt\n",
    "\n",
    "for host in hostsToBuildClassifierFor:\n",
    "    print(\"Results for host:\", host)\n",
    "    print(\"Feature file:\", featureFileToUse)\n",
    "    print(\"Balanced accuracy:\", round(np.mean(scores[host]['test_balanced_accuracy']), 2), scores[host]['test_balanced_accuracy'])\n",
    "    print(\"Recall:\", round(np.mean(scores[host]['test_recall']), 2), scores[host]['test_recall'])\n",
    "    print(\"Specificity:\", round(np.mean(scores[host]['test_specificity']), 2), scores[host]['test_specificity'])\n",
    "    print(\"Precision:\", round(np.mean(scores[host]['test_precision']), 2), scores[host]['test_precision'])\n",
    "    print(\"F1:\", round(np.mean(scores[host]['test_f1']), 2), scores[host]['test_f1'])\n",
    "\n",
    "    plt.plot(scores[host]['test_balanced_accuracy'], label='Bal. Accuracy')\n",
    "    plt.plot(scores[host]['test_recall'], label='Recall')\n",
    "    plt.plot(scores[host]['test_specificity'], label='Specificity')\n",
    "    plt.plot(scores[host]['test_precision'], label='Precision')\n",
    "    plt.plot(scores[host]['test_f1'], label='F1')\n",
    "\n",
    "    plt.ylim(0, 1)\n",
    "    plt.ylabel(\"Score\")\n",
    "    plt.xlabel(\"Fold\")\n",
    "\n",
    "    plt.legend()\n",
    "    plt.title(f\"Classifier for host {host}\")\n",
    "    plt.show()"
   ]
  },
  {
   "cell_type": "markdown",
   "metadata": {},
   "source": [
    "# Research"
   ]
  },
  {
   "cell_type": "code",
   "execution_count": 118,
   "metadata": {},
   "outputs": [
    {
     "name": "stdout",
     "output_type": "stream",
     "text": [
      "['10036', '10090', '1644094', '9031', '9455', '9534', '9544', '9823', '9913']\n"
     ]
    },
    {
     "data": {
      "image/png": "[encoded data removed]",
      "text/plain": [
       "<Figure size 640x480 with 2 Axes>"
      ]
     },
     "metadata": {},
     "output_type": "display_data"
    }
   ],
   "source": [
    "# Research how many viruses overlap between hosts\n",
    "import os\n",
    "import matplotlib.pyplot as plt\n",
    "\n",
    "allHosts = [f.name for f in os.scandir(genomeParentFolder) if f.is_dir()]\n",
    "filesForHosts = {host: [f.name for f in os.scandir(f\"{genomeParentFolder}/{host}\") if f.is_file()] for host in allHosts}\n",
    "print(allHosts)\n",
    "\n",
    "# create a confustion matrix of the host files\n",
    "confusionMatrix = []\n",
    "for i, host in enumerate(allHosts):\n",
    "    confusionMatrix.append([0] * len(allHosts))\n",
    "    for j, host2 in enumerate(allHosts):\n",
    "        confusionMatrix[i][j] = len(set(filesForHosts[host]).intersection(set(filesForHosts[host2]))) / min(len(filesForHosts[host]), len(filesForHosts[host2]))\n",
    "\n",
    "# plot heatmap\n",
    "fig, ax = plt.subplots()\n",
    "cax = ax.matshow(confusionMatrix)\n",
    "fig.colorbar(cax)\n",
    "plt.xticks(range(len(allHosts)), allHosts, rotation=90)\n",
    "plt.yticks(range(len(allHosts)), allHosts)\n",
    "plt.show()"
   ]
  },
  {
   "cell_type": "markdown",
   "metadata": {},
   "source": [
    "We can see that there is at least a ~45% overlap for each host."
   ]
  },
  {
   "cell_type": "markdown",
   "metadata": {},
   "source": [
    "## Researching how balanced the input data is"
   ]
  },
  {
   "cell_type": "markdown",
   "metadata": {},
   "source": [
    "Ideally we want to train a classifier on balanced input data."
   ]
  },
  {
   "cell_type": "code",
   "execution_count": 96,
   "metadata": {},
   "outputs": [
    {
     "data": {
      "image/png": "[encoded data removed]",
      "text/plain": [
       "<Figure size 640x480 with 1 Axes>"
      ]
     },
     "metadata": {},
     "output_type": "display_data"
    }
   ],
   "source": [
    "# plot histogram\n",
    "\n",
    "x = list(map(str, featuresPerHost.keys()))\n",
    "y = [len(featuresPerHost[int(host)]) for host in x]\n",
    "plt.bar(x, y)\n",
    "plt.xlabel(\"Host\")\n",
    "plt.ylabel(\"Number of viruses\")\n",
    "plt.show()"
   ]
  },
  {
   "cell_type": "markdown",
   "metadata": {},
   "source": [
    "As we can see, the most balance predictor uses 10036 as the positive samples, and the others as the negative ones.\n",
    "\n",
    "Another potentially viable combination would be excluding 10036 (bc it has so many viruses) and trying to build a classifier for 9455. This yields the following result:\n",
    "```\n",
    "Results for host: 9455\n",
    "Feature file: features_kmer-3-6.csv\n",
    "Balanced accuracy: 0.59 [0.59137931 0.60186757 0.59437229 0.56684982]\n",
    "Recall: 0.5 [0.48275862 0.67741935 0.3030303  0.53846154]\n",
    "Specificity: 0.68 [0.7        0.52631579 0.88571429 0.5952381 ]\n",
    "Precision: 0.56 [0.53846154 0.53846154 0.71428571 0.4516129 ]\n",
    "F1: 0.51 [0.50909091 0.6        0.42553191 0.49122807]\n",
    "```\n",
    "\n",
    "As we can see the performance is relatively bad, probably in part due to a lack of training data. Including 10036 as negative samples led to a classifier always predicting 0.\n",
    "\n",
    "Therefore, the only viable solution given the data is a predictor for 10036."
   ]
  },
  {
   "cell_type": "markdown",
   "metadata": {},
   "source": [
    "## Fine-tuning the features and model"
   ]
  },
  {
   "cell_type": "markdown",
   "metadata": {},
   "source": [
    "Results from different runs USING SVC WITH RBF-KERNEL\n",
    "```\n",
    "Results for host: 10036\n",
    "Feature file: features_kmer_simple-3-6.csv\n",
    "Balanced accuracy: 0.79 [0.77101833 0.78658537 0.77464789 0.82236842]\n",
    "Recall: 0.58 [0.55696203 0.57317073 0.54929577 0.64473684]\n",
    "Specificity: 1.0 [0.98507463 1.         1.         1.        ]\n",
    "Precision: 0.99 [0.97777778 1.         1.         1.        ]\n",
    "F1: 0.73 [0.70967742 0.72868217 0.70909091 0.784     ]\n",
    "\n",
    "Results for host: 10036\n",
    "Feature file: features_kmer_simple-3.csv\n",
    "Balanced accuracy: 0.78 [0.77101833 0.78658537 0.76056338 0.79996186]\n",
    "Recall: 0.58 [0.55696203 0.57317073 0.52112676 0.65789474]\n",
    "Specificity: 0.98 [0.98507463 1.         1.         0.94202899]\n",
    "Precision: 0.98 [0.97777778 1.         1.         0.92592593]\n",
    "F1: 0.72 [0.70967742 0.72868217 0.68518519 0.76923077]\n",
    "\n",
    "Results for host: 10036\n",
    "Feature file: features_kmer_simple-6.csv\n",
    "Balanced accuracy: 0.77 [0.78254298 0.77096037 0.75437762 0.77097635]\n",
    "Recall: 0.59 [0.59493671 0.57317073 0.54929577 0.65789474]\n",
    "Specificity: 0.95 [0.97014925 0.96875    0.95945946 0.88405797]\n",
    "Precision: 0.93 [0.95918367 0.95918367 0.92857143 0.86206897]\n",
    "F1: 0.72 [0.734375   0.71755725 0.69026549 0.74626866]\n",
    "```\n",
    "From the above results we can see that the codon frequencies contain the most vital information and the di-codon frequences do not add much to classification performance.\n",
    "\n",
    "```\n",
    "Results for host: 10036\n",
    "Feature file: features_kmer-3-6.csv\n",
    "Balanced accuracy: 0.79 [0.77101833 0.77705793 0.78901789 0.82170099]\n",
    "Recall: 0.6 [0.55696203 0.58536585 0.5915493  0.65789474]\n",
    "Specificity: 0.98 [0.98507463 0.96875    0.98648649 0.98550725]\n",
    "Precision: 0.97 [0.97777778 0.96       0.97674419 0.98039216]\n",
    "F1: 0.74 [0.70967742 0.72727273 0.73684211 0.78740157]\n",
    "\n",
    "Results for host: 10036\n",
    "Feature file: features_kmer-2-3-6.csv\n",
    "Balanced accuracy: 0.77 [0.76761761 0.74676067 0.78311762 0.78480168]\n",
    "Recall: 0.63 [0.59493671 0.63414634 0.63380282 0.67105263]\n",
    "Specificity: 0.91 [0.94029851 0.859375   0.93243243 0.89855072]\n",
    "Precision: 0.89 [0.92156863 0.85245902 0.9        0.87931034]\n",
    "F1: 0.74 [0.72307692 0.72727273 0.74380165 0.76119403]\n",
    "```\n",
    "We can see that also including the reverse complement does not influence performance substanially, therefore it will be included in further analysis as this potentially allows to feed the algorithm queries where it is not known if it is the reverse complement of the sequence or not.\n",
    "\n",
    "@FLO I removed the invalid kmer frequencies, as this does not impact performance at all and is really dependent on sequencing and not the virus itself.\n",
    "\n",
    "Including the dinucleotide frequency does not substantually improve recall while reducing specificity, therefore this will not further be done.\n",
    "\n",
    "The best feature selection therefore seems to be: codon + dicodon frequencies, including the reverse complement of the strand."
   ]
  },
  {
   "cell_type": "markdown",
   "metadata": {},
   "source": [
    "Using the ElkanotoSVCClassifier with hold_out_ratio=0.1 and threshold=0.5 we get the following:\n",
    "```\n",
    "Results for host: 10036\n",
    "Feature file: features_kmer-3-6.csv\n",
    "Balanced accuracy: 0.7 [0.7029095  0.71646341 0.65816521 0.71157513]\n",
    "Recall: 0.76 [0.73417722 0.68292683 0.8028169  0.82894737]\n",
    "Specificity: 0.63 [0.67164179 0.75       0.51351351 0.5942029 ]\n",
    "Precision: 0.7 [0.725      0.77777778 0.61290323 0.69230769]\n",
    "F1: 0.73 [0.72955975 0.72727273 0.69512195 0.75449102]\n",
    "```\n",
    "\n",
    "Which gives us better recall, but worse specificity."
   ]
  },
  {
   "cell_type": "markdown",
   "metadata": {},
   "source": [
    "Using other classifiers based on KNeigbors and a DecisionTree did not yield better results than using the SVC."
   ]
  },
  {
   "cell_type": "markdown",
   "metadata": {},
   "source": [
    "Using the SCV with a preceding PCA with 15 components:\n",
    "```\n",
    "Results for host: 10036\n",
    "Feature file: features_kmer-3-6.csv\n",
    "Balanced accuracy: 0.78 [0.79000567 0.77877287 0.75494861 0.79729214]\n",
    "Recall: 0.61 [0.59493671 0.57317073 0.57746479 0.71052632]\n",
    "Specificity: 0.95 [0.98507463 0.984375   0.93243243 0.88405797]\n",
    "Precision: 0.93 [0.97916667 0.97916667 0.89130435 0.87096774]\n",
    "F1: 0.74 [0.74015748 0.72307692 0.7008547  0.7826087 ]\n",
    "```\n",
    "We can see that the specificity decreases in comparison to using no PCA, while there is no real improvment in the other metrics."
   ]
  },
  {
   "cell_type": "markdown",
   "metadata": {},
   "source": [
    "Trying out other hyperparameters for the SVC, namely different kernels and regularization parameters, did also not yield any improvement."
   ]
  },
  {
   "cell_type": "markdown",
   "metadata": {},
   "source": [
    "In conclusion, the best performance was reached using a SVC with RBF kernel and default parameters, on the codon and dicodon frequencies including the reverse complement.\n",
    "```\n",
    "Results for host: 10036\n",
    "Feature file: features_kmer-3-6.csv\n",
    "Balanced accuracy: 0.79 [0.77101833 0.77705793 0.78901789 0.82170099]\n",
    "Recall: 0.6 [0.55696203 0.58536585 0.5915493  0.65789474]\n",
    "Specificity: 0.98 [0.98507463 0.96875    0.98648649 0.98550725]\n",
    "Precision: 0.97 [0.97777778 0.96       0.97674419 0.98039216]\n",
    "F1: 0.74 [0.70967742 0.72727273 0.73684211 0.78740157]\n",
    "```"
   ]
  },
  {
   "cell_type": "markdown",
   "metadata": {},
   "source": [
    "# Old results (for future reference)"
   ]
  },
  {
   "cell_type": "code",
   "execution_count": null,
   "metadata": {},
   "outputs": [],
   "source": [
    "# Elkanoto w/o unique virus filtering (+ different features)\n",
    "# elkanoto_svc_results = {1644094: {'fit_time': array([4907.15073395, 4990.56171942, 4950.51426482, 4881.92315793]), 'score_time': array([1155.61685181, 1191.37233377, 1176.45055175, 1254.34660721]), 'test_balanced_accuracy': array([0.5       , 0.5       , 0.5       , 0.50102549]), 'test_recall': array([1., 1., 1., 1.]), 'test_specificity': array([0.        , 0.        , 0.        , 0.00205098]), 'test_precision': array([0.11694696, 0.123674  , 0.11875809, 0.11715915]), 'test_f1': array([0.20940468, 0.22012434, 0.21230342, 0.20974478])}, 10090: {'fit_time': array([534.51305532, 619.46996903, 592.92223024, 604.51297069]), 'score_time': array([187.53446698, 171.91070223, 181.0747714 , 168.35237956]), 'test_balanced_accuracy': array([0.5       , 0.61592175, 0.5       , 0.38738078]),'test_recall': array([1.        , 0.94230769, 1.        , 0.68965517]), 'test_specificity': array([0.        , 0.2895358 , 0.        , 0.08510638]), 'test_precision': array([0.01552393, 0.0177665 , 0.01655886, 0.01135396]), 'test_f1': array([0.03057325, 0.03487544, 0.03257826, 0.02234013])}, 10036: {'fit_time': array([8393.32273841, 8297.76433659, 8338.97264695, 8418.57178783]), 'score_time': array([1768.69770193, 1731.56972361, 1732.82323742, 1774.01409435]), 'test_balanced_accuracy': array([0.49907882, 0.49741666, 0.50031706, 0.49821664]), 'test_recall': array([0.99563953, 0.99008499, 1.        , 0.9954955 ]), 'test_specificity': array([0.0025181 , 0.00474834, 0.00063412, 0.00093779]), 'test_precision': array([0.17773742, 0.18188915, 0.18405384, 0.17180617]), 'test_f1': array([0.30162924, 0.30732029, 0.31088763, 0.29303867])}, 9913: {'fit_time': array([4604.48881054, 4645.48022342, 4221.3886528 , 4642.48942566]), 'score_time': array([1108.71009684, 1121.05930471, 1162.92115974, 1088.92917538]), 'test_balanced_accuracy': array([0.5, 0.5, 0.5, 0.5]), 'test_recall': array([1., 1., 1., 1.]), 'test_specificity': array([0., 0., 0., 0.]), 'test_precision': array([0.11228978, 0.11021992, 0.12005175, 0.10349288]), 'test_f1': array([0.20190742, 0.19855512, 0.21436821, 0.18757327])}, 9823: {'fit_time': array([3012.83791757, 3059.24084091, 3229.53498507, 3181.73191714]), 'score_time': array([799.33551478, 842.05273533, 808.06591558, 797.54948783]), 'test_balanced_accuracy': array([0.5, 0.5, 0.5, 0.5]), 'test_recall': array([1., 1., 1., 1.]), 'test_specificity': array([0., 0., 0., 0.]), 'test_precision': array([0.08667529, 0.08382924, 0.07218629, 0.07270375]), 'test_f1': array([0.15952381, 0.15469086, 0.13465251, 0.13555234])}, 9544: {'fit_time': array([3095.12177825, 2976.99537325, 3123.85219169, 3244.73573923]),'score_time': array([774.44141483, 845.29702067, 806.54878998, 806.88626552]), 'test_balanced_accuracy': array([0.5       , 0.5       , 0.50013959, 0.50055975]), 'test_recall': array([1., 1., 1., 1.]), 'test_specificity': array([0.        , 0.        , 0.00027917, 0.00111951]), 'test_precision': array([0.08279431, 0.08150065, 0.07324017, 0.07562808]), 'test_f1': array([0.15292712, 0.1507177 , 0.13648421, 0.14062124])}, 9534: {'fit_time': array([3538.9825871 , 3668.4609971 , 3604.55383062, 3706.58384895]), 'score_time': array([952.44729257, 889.66033769, 911.11520481, 914.77577758]), 'test_balanced_accuracy': array([0.54417822, 0.5       , 0.52842069, 0.5       ]), 'test_recall': array([0.98680739, 1.        , 0.99125364, 1.        ]), 'test_specificity':array([0.10154905, 0.        , 0.06558773, 0.        ]), 'test_precision': array([0.10667427, 0.09003881, 0.09363812, 0.0915912 ]), 'test_f1': array([0.19253539, 0.16520294, 0.17111223, 0.16781228])}, 9455: {'fit_time': array([6848.16912031, 7427.41147518, 7640.42564702, 7323.24975252]), 'score_time': array([1687.09556961, 1779.03239751, 1698.843575  , 1638.78948259]), 'test_balanced_accuracy': array([0.50172847, 0.50131404, 0.50046282, 0.50387237]), 'test_recall': array([1.        , 0.99366086, 1.        , 1.        ]), 'test_specificity': array([0.00345695, 0.00896722, 0.00092564, 0.00774473]), 'test_precision': array([0.17721847, 0.16362213, 0.16157431, 0.16588542]), 'test_f1': array([0.30108001, 0.28097692, 0.27819884, 0.28456556])}, 9031: {'fit_time': array([7942.13983655, 7360.12914085, 7180.73114204, 8050.09637523]), 'score_time': array([1712.94993877, 1640.6033814 , 1590.65490031, 1658.59115052]),'test_balanced_accuracy': array([0.50491899, 0.50329869, 0.50630963, 0.50232414]), 'test_recall': array([0.99840764, 0.99655172, 1.        , 1.        ]), 'test_specificity': array([0.01143034, 0.01004566, 0.01261927, 0.00464828]), 'test_precision': array([0.1638359 , 0.15091384, 0.16108787, 0.16571429]), 'test_f1': array([0.28148148, 0.26213152, 0.27747748, 0.28431373])}}\n",
    "# SVC w/o unique virus filtering (+ different features)\n",
    "# svc_results = {1644094: {'fit_time': array([921.37710714, 804.73525739, 849.66964531, 926.64888024]), 'score_time': array([1414.27110267, 1283.12198019, 1460.35749292,1442.47194767]), 'test_balanced_accuracy': array([0.5, 0.5, 0.5, 0.5]), 'test_recall': array([0., 0., 0., 0.]), 'test_specificity': array([1., 1., 1., 1.]), 'test_precision': array([0., 0., 0., 0.]), 'test_f1': array([0., 0., 0., 0.])}, 10090: {'fit_time': array([101.54810452, 157.45918989, 150.07447815,154.34451008]), 'score_time': array([200.94267321, 192.54084754, 195.76825142, 193.88725185]), 'test_balanced_accuracy': array([0.5, 0.5, 0.5, 0.5]), 'test_recall': array([0., 0., 0., 0.]), 'test_specificity': array([1., 1., 1., 1.]), 'test_precision': array([0., 0., 0., 0.]), 'test_f1': array([0., 0., 0., 0.])}, 10036: {'fit_time': array([1371.72377682, 1347.67116475, 1320.66009974, 1371.74286461]), 'score_time': array([2003.450207  , 2182.99576569, 2356.71167111, 2530.73926139]), 'test_balanced_accuracy': array([0.5, 0.5, 0.5, 0.5]), 'test_recall': array([0., 0., 0., 0.]), 'test_specificity': array([1., 1., 1., 1.]), 'test_precision': array([0., 0., 0., 0.]), 'test_f1': array([0., 0., 0., 0.])}, 9913: {'fit_time': array([790.12615657, 759.92083788, 729.9546597 , 752.15770316]), 'score_time': array([1260.32520485, 1186.58301377, 1169.35508847, 1281.872684  ]), 'test_balanced_accuracy': array([0.5, 0.5,0.5, 0.5]), 'test_recall': array([0., 0., 0., 0.]), 'test_specificity': array([1., 1., 1., 1.]), 'test_precision': array([0., 0., 0., 0.]), 'test_f1': array([0., 0., 0., 0.])}, 9823: {'fit_time': array([416.86714387, 610.88384724, 535.68782258, 586.4245491 ]), 'score_time': array([879.4391768 , 845.10344362, 930.64229822, 862.7680912 ]), 'test_balanced_accuracy': array([0.5, 0.5, 0.5, 0.5]), 'test_recall': array([0., 0., 0., 0.]), 'test_specificity': array([1., 1., 1., 1.]), 'test_precision': array([0., 0., 0., 0.]), 'test_f1': array([0., 0., 0., 0.])}, 9544: {'fit_time': array([507.69800401, 496.05915666, 523.17737341, 523.77310085]), 'score_time': array([866.88913274, 864.84455323, 894.51292753, 860.77611113]), 'test_balanced_accuracy': array([0.5, 0.5,0.5, 0.5]), 'test_recall': array([0., 0., 0., 0.]), 'test_specificity': array([1., 1., 1., 1.]), 'test_precision': array([0., 0., 0., 0.]), 'test_f1': array([0., 0., 0., 0.])}, 9534: {'fit_time': array([601.23839355, 578.76752949, 597.39624858, 590.59732056]), 'score_time': array([1037.36745787, 1008.62105083,  985.8596127 , 1005.7146101 ]), 'test_balanced_accuracy': array([0.5, 0.5, 0.5, 0.5]), 'test_recall': array([0., 0., 0., 0.]), 'test_specificity':array([1., 1., 1., 1.]), 'test_precision': array([0., 0., 0., 0.]), 'test_f1': array([0., 0., 0., 0.])}, 9455: {'fit_time': array([1083.14667535, 1084.87314177, 1117.90640569, 1054.55059648]), 'score_time': array([1865.39292979, 1863.74345636, 1849.86681223, 1859.77698636]), 'test_balanced_accuracy': array([0.5, 0.5, 0.5, 0.5]), 'test_recall': array([0., 0., 0., 0.]), 'test_specificity': array([1., 1., 1., 1.]), 'test_precision': array([0., 0., 0., 0.]),'test_f1': array([0., 0., 0., 0.])}, 9031: {'fit_time': array([ 988.47512722, 1004.13777328, 1036.66497159, 1018.71995115]), 'score_time': array([1729.89951301, 1717.98967385, 1814.62169409, 1829.67017055]), 'test_balanced_accuracy': array([0.5, 0.5, 0.5, 0.5]), 'test_recall': array([0., 0., 0., 0.]), 'test_specificity': array([1., 1., 1., 1.]), 'test_precision': array([0., 0., 0., 0.]), 'test_f1': array([0., 0., 0., 0.])}}"
   ]
  }
 ],
 "metadata": {
  "kernelspec": {
   "display_name": "virushunter2",
   "language": "python",
   "name": "python3"
  },
  "language_info": {
   "codemirror_mode": {
    "name": "ipython",
    "version": 3
   },
   "file_extension": ".py",
   "mimetype": "text/x-python",
   "name": "python",
   "nbconvert_exporter": "python",
   "pygments_lexer": "ipython3",
   "version": "3.12.8"
  }
 },
 "nbformat": 4,
 "nbformat_minor": 2
}
