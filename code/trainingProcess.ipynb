{
 "cells": [
  {
   "cell_type": "code",
   "execution_count": 1,
   "metadata": {},
   "outputs": [],
   "source": [
    "# Necessary Imports\n",
    "import numpy as np\n",
    "import pandas as pd\n",
    "import ast\n",
    "import csv\n",
    "import os\n",
    "from sklearn.model_selection import StratifiedKFold, KFold, cross_validate\n",
    "\n",
    "from classification.ElkanotoSVCClassifier import ElkanotoSVCClassifier\n",
    "from dataPreparation import DataPreparation\n",
    "from dataPreprocessing import DataPreprocessing"
   ]
  },
  {
   "cell_type": "code",
   "execution_count": 2,
   "metadata": {},
   "outputs": [],
   "source": [
    "# Global parameters for calculating the data for the csv (and their paths) and for the chosen features\n",
    "doPreperation = False\n",
    "doPreprocessing = False\n",
    "featureFilePath = \"genomeFeatures.csv\"\n",
    "genomeFilePath = \"genomes.csv\"\n",
    "chosenFeatures = { \"kmer\": [2, 3, 7], \"codon_translation\": [], \"dicodon_translation\" : [], \"sequence_length\" : []}"
   ]
  },
  {
   "cell_type": "code",
   "execution_count": 3,
   "metadata": {},
   "outputs": [],
   "source": [
    "# Data Preparation of Training Data\n",
    "if doPreperation:\n",
    "    dataPreperator = DataPreparation.DataPreparation()\n",
    "    trainingGenomes = dataPreperator.loadTrainingGenomeSequences()\n",
    "    with open(genomeFilePath, mode=\"w\", newline=\"\") as file:\n",
    "      writer = csv.writer(file)\n",
    "      writer.writerow([\"HostTaxID\", \"GenomeTaxID\", \"Sequence\"])\n",
    "      for genome in trainingGenomes:\n",
    "          writer.writerow(genome)\n",
    "\n",
    "trainingGenomeData = pd.read_csv(genomeFilePath)\n",
    "trainingGenomeData = list(trainingGenomeData.itertuples(index=False, name=None))"
   ]
  },
  {
   "cell_type": "code",
   "execution_count": 4,
   "metadata": {},
   "outputs": [],
   "source": [
    "# Preprocessing of Training Data\n",
    "if doPreprocessing:\n",
    "    dataPreprocessor = DataPreprocessing.DataPreprocessing()\n",
    "    featureDataframe = dataPreprocessor.calculateFeatureMatrix(trainingGenomeData,chosenFeatures)\n",
    "    dataPreprocessor.saveFeatureMatrixAsCSV(featureDataframe, featureFilePath)\n",
    "\n",
    "featureData = pd.read_csv(featureFilePath)\n",
    "\n",
    "# Convert the flat feature list into right format for classifier TODO: Do it better (best case before csv)\n",
    "featureData['FeaturesFlat'] = featureData['FeaturesFlat'].apply(ast.literal_eval)\n",
    "featureData['FeaturesFlat'] = featureData['FeaturesFlat'].apply(lambda x: [float(i) for i in x])"
   ]
  },
  {
   "cell_type": "code",
   "execution_count": 5,
   "metadata": {},
   "outputs": [],
   "source": [
    "# Training of the PU-Classifier\n",
    "\n",
    "# Define Hosts (with their HostTaxID) for which a model should be build and create a untrained classifier for each host\n",
    "hosts = [10090, 9534]\n",
    "classifiers = {}\n",
    "for host in hosts:\n",
    "    classifiers[host] = ElkanotoSVCClassifier()\n",
    "\n",
    "# Create dictionary of HostTaxIDs (as key) and empty lists (of feature lists for each datapoint) for each host (as value)\n",
    "featuresPerHost = {}\n",
    "for host in hosts:\n",
    "    featuresPerHost[host] = []\n",
    "\n",
    "# Extract features of virus sequences for each host in seperate list and convert them to a np array\n",
    "for _, row in featureData.iterrows():\n",
    "    host = row['HostTaxID']\n",
    "    features = np.array(row['FeaturesFlat'])\n",
    "    featuresPerHost[host].append(features)\n",
    "\n",
    "for host in hosts:\n",
    "    featuresPerHost[host] = np.array(featuresPerHost[host])\n",
    "\n",
    "# Transform features (X) and host classes (y) into expected format of PU Classifier and run k-fold cross validation for each host\n",
    "X = np.concatenate([featuresPerHost[host] for host in hosts])\n",
    "\n",
    "def getYForHost(h):\n",
    "    y = []\n",
    "    for host in hosts:\n",
    "        y += [1 if host == h else 0] * len(featuresPerHost[host])\n",
    "    return np.array(y)\n",
    "\n",
    "# TODO: WHere is the training? -> Where are classifiers saved? Are multiple classifier trained?\n",
    "\n",
    "scores = {}\n",
    "for host in hosts:\n",
    "    # load the training data\n",
    "    X = X\n",
    "    y = getYForHost(host)\n",
    "\n",
    "    # run k-fold cross validation\n",
    "    cv = KFold(n_splits=4, shuffle=True)\n",
    "    #cv = StratifiedKFold(n_splits=2, shuffle=True, random_state=42)\n",
    "    scores[host] = cross_validate(classifiers[host], X, y, cv=cv, scoring=['balanced_accuracy', 'recall', 'precision', 'f1'])"
   ]
  },
  {
   "cell_type": "code",
   "execution_count": 6,
   "metadata": {},
   "outputs": [
    {
     "data": {
      "text/plain": [
       "{10090: {'fit_time': array([0.89850092, 0.83758998, 0.55769205, 0.47517991]),\n",
       "  'score_time': array([0.16909909, 0.13218093, 0.06457686, 0.05828786]),\n",
       "  'test_balanced_accuracy': array([0.5, 0.5, 0.5, 0.5]),\n",
       "  'test_recall': array([1., 1., 1., 1.]),\n",
       "  'test_precision': array([0.86764706, 0.85294118, 0.89705882, 0.8358209 ]),\n",
       "  'test_f1': array([0.92913386, 0.92063492, 0.94573643, 0.91056911])},\n",
       " 9534: {'fit_time': array([0.36164403, 0.46575809, 0.45738912, 0.41481328]),\n",
       "  'score_time': array([0.07598686, 0.09598398, 0.07301188, 0.05946398]),\n",
       "  'test_balanced_accuracy': array([0.51754386, 0.5       , 0.5       , 0.5       ]),\n",
       "  'test_recall': array([1., 1., 1., 1.]),\n",
       "  'test_precision': array([0.16666667, 0.16176471, 0.11764706, 0.10447761]),\n",
       "  'test_f1': array([0.28571429, 0.27848101, 0.21052632, 0.18918919])}}"
      ]
     },
     "execution_count": 6,
     "metadata": {},
     "output_type": "execute_result"
    }
   ],
   "source": [
    "# Evaluation of the Training Process\n",
    "\n",
    "# print out the metrics we want to see using the scores\n",
    "scores"
   ]
  },
  {
   "cell_type": "code",
   "execution_count": null,
   "metadata": {},
   "outputs": [],
   "source": [
    "# Visualization of the results"
   ]
  }
 ],
 "metadata": {
  "kernelspec": {
   "display_name": "base",
   "language": "python",
   "name": "python3"
  },
  "language_info": {
   "codemirror_mode": {
    "name": "ipython",
    "version": 3
   },
   "file_extension": ".py",
   "mimetype": "text/x-python",
   "name": "python",
   "nbconvert_exporter": "python",
   "pygments_lexer": "ipython3",
   "version": "3.9.12"
  }
 },
 "nbformat": 4,
 "nbformat_minor": 2
}
